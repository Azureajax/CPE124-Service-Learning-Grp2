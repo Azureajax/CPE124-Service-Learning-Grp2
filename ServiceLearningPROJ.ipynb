{
 "cells": [
  {
   "cell_type": "code",
   "execution_count": null,
   "metadata": {},
   "outputs": [],
   "source": [
    "from flask import Flask\n",
    "from flask import render_template\n",
    "import RPi.GPIO as proj\n",
    "import time\n",
    "\n",
    "app= Flask(_name_)\n",
    "\n",
    "l1,l2,l3= 3,5,7\n",
    "\n",
    "proj.setwarnings(False)\n",
    "proj.setmode(proj.BOARD)\n",
    "proj.setup(l1, proj.OUT)\n",
    "proj.setup(l2, proj.OUT)\n",
    "proj.setup(l3, proj.OUT)\n",
    "proj.output(l1, 0)\n",
    "proj.output(l2, 0)\n",
    "proj.output(l3, 0)\n",
    "print(\"Done\")\n",
    "\n",
    "@app.route('/')\n",
    "def index():\n",
    "    return render_template('webpage.html')"
    
    
    "@app.route('/A')"
    "def led1on():"
    rpi.output(led1,1)
    return render_template('webpage.html')
   ]
  }
 ],
 "metadata": {
  "kernelspec": {
   "display_name": "Python 3",
   "language": "python",
   "name": "python3"
  },
  "language_info": {
   "codemirror_mode": {
    "name": "ipython",
    "version": 3
   },
   "file_extension": ".py",
   "mimetype": "text/x-python",
   "name": "python",
   "nbconvert_exporter": "python",
   "pygments_lexer": "ipython3",
   "version": "3.8.5"
  }
 },
 "nbformat": 4,
 "nbformat_minor": 4
}
